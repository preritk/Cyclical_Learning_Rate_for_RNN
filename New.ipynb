{
 "cells": [
  {
   "cell_type": "code",
   "execution_count": 2,
   "metadata": {},
   "outputs": [
    {
     "name": "stderr",
     "output_type": "stream",
     "text": [
      "/home/prerit/anaconda3/lib/python3.6/site-packages/h5py/__init__.py:34: FutureWarning: Conversion of the second argument of issubdtype from `float` to `np.floating` is deprecated. In future, it will be treated as `np.float64 == np.dtype(float).type`.\n",
      "  from ._conv import register_converters as _register_converters\n",
      "Using TensorFlow backend.\n"
     ]
    }
   ],
   "source": [
    "import numpy as np\n",
    "import matplotlib.pyplot as plt\n",
    "from pandas import read_csv\n",
    "import math\n",
    "from keras.models import Sequential \n",
    "from keras.layers import Dense , LSTM , Dropout\n",
    "from sklearn.preprocessing import MinMaxScaler\n",
    "from sklearn.metrics import mean_squared_error , r2_score"
   ]
  },
  {
   "cell_type": "code",
   "execution_count": 3,
   "metadata": {
    "collapsed": true
   },
   "outputs": [],
   "source": [
    "dataframe = read_csv('PT08_S1_CO.csv', usecols=[1,2,3,4,5,6], engine='python', skipfooter=3)"
   ]
  },
  {
   "cell_type": "code",
   "execution_count": 4,
   "metadata": {},
   "outputs": [
    {
     "data": {
      "text/html": [
       "<div>\n",
       "<style>\n",
       "    .dataframe thead tr:only-child th {\n",
       "        text-align: right;\n",
       "    }\n",
       "\n",
       "    .dataframe thead th {\n",
       "        text-align: left;\n",
       "    }\n",
       "\n",
       "    .dataframe tbody tr th {\n",
       "        vertical-align: top;\n",
       "    }\n",
       "</style>\n",
       "<table border=\"1\" class=\"dataframe\">\n",
       "  <thead>\n",
       "    <tr style=\"text-align: right;\">\n",
       "      <th></th>\n",
       "      <th>target</th>\n",
       "      <th>Tm1</th>\n",
       "      <th>Tm2</th>\n",
       "      <th>Tm3</th>\n",
       "      <th>Tm4</th>\n",
       "      <th>Tm5</th>\n",
       "    </tr>\n",
       "  </thead>\n",
       "  <tbody>\n",
       "    <tr>\n",
       "      <th>0</th>\n",
       "      <td>1197.0</td>\n",
       "      <td>1272.0</td>\n",
       "      <td>1376.0</td>\n",
       "      <td>1402.0</td>\n",
       "      <td>1292.0</td>\n",
       "      <td>1360.0</td>\n",
       "    </tr>\n",
       "    <tr>\n",
       "      <th>1</th>\n",
       "      <td>1185.0</td>\n",
       "      <td>1197.0</td>\n",
       "      <td>1272.0</td>\n",
       "      <td>1376.0</td>\n",
       "      <td>1402.0</td>\n",
       "      <td>1292.0</td>\n",
       "    </tr>\n",
       "    <tr>\n",
       "      <th>2</th>\n",
       "      <td>1136.0</td>\n",
       "      <td>1185.0</td>\n",
       "      <td>1197.0</td>\n",
       "      <td>1272.0</td>\n",
       "      <td>1376.0</td>\n",
       "      <td>1402.0</td>\n",
       "    </tr>\n",
       "    <tr>\n",
       "      <th>3</th>\n",
       "      <td>1094.0</td>\n",
       "      <td>1136.0</td>\n",
       "      <td>1185.0</td>\n",
       "      <td>1197.0</td>\n",
       "      <td>1272.0</td>\n",
       "      <td>1376.0</td>\n",
       "    </tr>\n",
       "    <tr>\n",
       "      <th>4</th>\n",
       "      <td>1010.0</td>\n",
       "      <td>1094.0</td>\n",
       "      <td>1136.0</td>\n",
       "      <td>1185.0</td>\n",
       "      <td>1197.0</td>\n",
       "      <td>1272.0</td>\n",
       "    </tr>\n",
       "  </tbody>\n",
       "</table>\n",
       "</div>"
      ],
      "text/plain": [
       "   target     Tm1     Tm2     Tm3     Tm4     Tm5\n",
       "0  1197.0  1272.0  1376.0  1402.0  1292.0  1360.0\n",
       "1  1185.0  1197.0  1272.0  1376.0  1402.0  1292.0\n",
       "2  1136.0  1185.0  1197.0  1272.0  1376.0  1402.0\n",
       "3  1094.0  1136.0  1185.0  1197.0  1272.0  1376.0\n",
       "4  1010.0  1094.0  1136.0  1185.0  1197.0  1272.0"
      ]
     },
     "execution_count": 4,
     "metadata": {},
     "output_type": "execute_result"
    }
   ],
   "source": [
    "dataframe[:5]"
   ]
  },
  {
   "cell_type": "code",
   "execution_count": 5,
   "metadata": {},
   "outputs": [
    {
     "data": {
      "text/plain": [
       "9349"
      ]
     },
     "execution_count": 5,
     "metadata": {},
     "output_type": "execute_result"
    }
   ],
   "source": [
    "len(dataframe)"
   ]
  },
  {
   "cell_type": "code",
   "execution_count": 6,
   "metadata": {},
   "outputs": [
    {
     "data": {
      "image/png": "[encoded data removed]",
      "text/plain": [
       "<matplotlib.figure.Figure at 0x7f4bf31963c8>"
      ]
     },
     "metadata": {},
     "output_type": "display_data"
    }
   ],
   "source": [
    "dataset = read_csv('PT08_S1_CO.csv', usecols=[1], engine='python', skipfooter=3)\n",
    "plt.plot(dataset)\n",
    "plt.show()"
   ]
  },
  {
   "cell_type": "code",
   "execution_count": 7,
   "metadata": {
    "collapsed": true
   },
   "outputs": [],
   "source": [
    "dataset = dataframe.values\n",
    "dataset = dataset.astype('float32')"
   ]
  },
  {
   "cell_type": "code",
   "execution_count": 8,
   "metadata": {
    "collapsed": true
   },
   "outputs": [],
   "source": [
    "scaler = MinMaxScaler(feature_range=(0, 1))\n",
    "dataset = scaler.fit_transform(dataset)"
   ]
  },
  {
   "cell_type": "code",
   "execution_count": 9,
   "metadata": {
    "collapsed": true
   },
   "outputs": [],
   "source": [
    "train_size = int(len(dataset) * 0.80)\n",
    "test_size = len(dataset) - train_size"
   ]
  },
  {
   "cell_type": "code",
   "execution_count": 10,
   "metadata": {},
   "outputs": [
    {
     "data": {
      "text/plain": [
       "7479"
      ]
     },
     "execution_count": 10,
     "metadata": {},
     "output_type": "execute_result"
    }
   ],
   "source": [
    "train_size"
   ]
  },
  {
   "cell_type": "code",
   "execution_count": 11,
   "metadata": {
    "collapsed": true
   },
   "outputs": [],
   "source": [
    "trainX ,trainY= dataset[0:train_size,1:],dataset[0:train_size,0]\n",
    "testX,testY = dataset[train_size:len(dataset),1:],dataset[train_size:len(dataset),0]"
   ]
  },
  {
   "cell_type": "code",
   "execution_count": 12,
   "metadata": {
    "collapsed": true
   },
   "outputs": [],
   "source": [
    "trainX = np.reshape(trainX, (trainX.shape[0], 1, trainX.shape[1]))\n",
    "testX = np.reshape(testX, (testX.shape[0], 1, testX.shape[1]))"
   ]
  },
  {
   "cell_type": "code",
   "execution_count": 13,
   "metadata": {},
   "outputs": [
    {
     "data": {
      "text/plain": [
       "1"
      ]
     },
     "execution_count": 13,
     "metadata": {},
     "output_type": "execute_result"
    }
   ],
   "source": [
    "trainX.shape[1]"
   ]
  },
  {
   "cell_type": "code",
   "execution_count": 14,
   "metadata": {
    "collapsed": true
   },
   "outputs": [],
   "source": [
    "from keras.optimizers import Adam,SGD\n",
    "from keras import optimizers\n",
    "from keras import regularizers"
   ]
  },
  {
   "cell_type": "code",
   "execution_count": 15,
   "metadata": {
    "collapsed": true
   },
   "outputs": [],
   "source": [
    "import random"
   ]
  },
  {
   "cell_type": "code",
   "execution_count": 16,
   "metadata": {
    "collapsed": true
   },
   "outputs": [],
   "source": [
    "random.seed(5)"
   ]
  },
  {
   "cell_type": "code",
   "execution_count": 23,
   "metadata": {
    "collapsed": true
   },
   "outputs": [],
   "source": [
    "model = Sequential()\n",
    "look_back = 5"
   ]
  },
  {
   "cell_type": "code",
   "execution_count": 24,
   "metadata": {
    "collapsed": true
   },
   "outputs": [],
   "source": [
    "model.add(LSTM(5,input_shape = (1,look_back),kernel_regularizer = regularizers.l2(0.01),activity_regularizer\n",
    "               = regularizers.l1(0.01)))\n",
    "model.add(Dense(1))"
   ]
  },
  {
   "cell_type": "code",
   "execution_count": 25,
   "metadata": {},
   "outputs": [
    {
     "name": "stdout",
     "output_type": "stream",
     "text": [
      "_________________________________________________________________\n",
      "Layer (type)                 Output Shape              Param #   \n",
      "=================================================================\n",
      "lstm_2 (LSTM)                (None, 5)                 220       \n",
      "_________________________________________________________________\n",
      "dense_2 (Dense)              (None, 1)                 6         \n",
      "=================================================================\n",
      "Total params: 226\n",
      "Trainable params: 226\n",
      "Non-trainable params: 0\n",
      "_________________________________________________________________\n"
     ]
    }
   ],
   "source": [
    "model.summary()"
   ]
  },
  {
   "cell_type": "code",
   "execution_count": 26,
   "metadata": {
    "collapsed": true
   },
   "outputs": [
    {
     "name": "stdout",
     "output_type": "stream",
     "text": [
      "Epoch 1/50\n",
      " - 11s - loss: 0.0169 - mean_absolute_error: 0.0598 - mean_absolute_percentage_error: 49636.6131\n",
      "Epoch 2/50\n",
      " - 11s - loss: 0.0058 - mean_absolute_error: 0.0439 - mean_absolute_percentage_error: 32117.9512\n",
      "Epoch 3/50\n",
      " - 11s - loss: 0.0046 - mean_absolute_error: 0.0418 - mean_absolute_percentage_error: 20001.8046\n",
      "Epoch 4/50\n",
      " - 11s - loss: 0.0043 - mean_absolute_error: 0.0408 - mean_absolute_percentage_error: 21202.6245\n",
      "Epoch 5/50\n",
      " - 11s - loss: 0.0042 - mean_absolute_error: 0.0408 - mean_absolute_percentage_error: 18126.5431\n",
      "Epoch 6/50\n",
      " - 15s - loss: 0.0041 - mean_absolute_error: 0.0404 - mean_absolute_percentage_error: 23284.6663\n",
      "Epoch 7/50\n",
      " - 11s - loss: 0.0041 - mean_absolute_error: 0.0406 - mean_absolute_percentage_error: 22990.7502\n",
      "Epoch 8/50\n",
      " - 11s - loss: 0.0040 - mean_absolute_error: 0.0401 - mean_absolute_percentage_error: 18681.2035\n",
      "Epoch 9/50\n",
      " - 11s - loss: 0.0040 - mean_absolute_error: 0.0399 - mean_absolute_percentage_error: 18051.0456\n",
      "Epoch 10/50\n",
      " - 11s - loss: 0.0039 - mean_absolute_error: 0.0395 - mean_absolute_percentage_error: 20573.0286\n",
      "Epoch 11/50\n",
      " - 11s - loss: 0.0037 - mean_absolute_error: 0.0391 - mean_absolute_percentage_error: 23022.3995\n",
      "Epoch 12/50\n",
      " - 10s - loss: 0.0036 - mean_absolute_error: 0.0382 - mean_absolute_percentage_error: 17861.8857\n",
      "Epoch 13/50\n",
      " - 11s - loss: 0.0035 - mean_absolute_error: 0.0379 - mean_absolute_percentage_error: 17143.1914\n",
      "Epoch 14/50\n",
      " - 11s - loss: 0.0035 - mean_absolute_error: 0.0377 - mean_absolute_percentage_error: 10417.7358\n",
      "Epoch 15/50\n",
      " - 10s - loss: 0.0035 - mean_absolute_error: 0.0378 - mean_absolute_percentage_error: 9785.3922\n",
      "Epoch 16/50\n",
      " - 11s - loss: 0.0034 - mean_absolute_error: 0.0375 - mean_absolute_percentage_error: 18342.0266\n",
      "Epoch 17/50\n",
      " - 11s - loss: 0.0035 - mean_absolute_error: 0.0384 - mean_absolute_percentage_error: 8958.1906\n",
      "Epoch 18/50\n",
      " - 10s - loss: 0.0035 - mean_absolute_error: 0.0379 - mean_absolute_percentage_error: 15807.2390\n",
      "Epoch 19/50\n",
      " - 11s - loss: 0.0035 - mean_absolute_error: 0.0376 - mean_absolute_percentage_error: 10890.9963\n",
      "Epoch 20/50\n",
      " - 11s - loss: 0.0034 - mean_absolute_error: 0.0377 - mean_absolute_percentage_error: 10115.4169\n",
      "Epoch 21/50\n",
      " - 10s - loss: 0.0035 - mean_absolute_error: 0.0380 - mean_absolute_percentage_error: 14062.8861\n",
      "Epoch 22/50\n",
      " - 11s - loss: 0.0035 - mean_absolute_error: 0.0383 - mean_absolute_percentage_error: 7599.3218\n",
      "Epoch 23/50\n",
      " - 10s - loss: 0.0035 - mean_absolute_error: 0.0379 - mean_absolute_percentage_error: 9230.5088\n",
      "Epoch 24/50\n",
      " - 10s - loss: 0.0034 - mean_absolute_error: 0.0378 - mean_absolute_percentage_error: 17797.2183\n",
      "Epoch 25/50\n",
      " - 11s - loss: 0.0034 - mean_absolute_error: 0.0377 - mean_absolute_percentage_error: 12073.4631\n",
      "Epoch 26/50\n",
      " - 11s - loss: 0.0034 - mean_absolute_error: 0.0379 - mean_absolute_percentage_error: 13365.1190\n",
      "Epoch 27/50\n",
      " - 10s - loss: 0.0034 - mean_absolute_error: 0.0380 - mean_absolute_percentage_error: 9364.9247\n",
      "Epoch 28/50\n",
      " - 11s - loss: 0.0034 - mean_absolute_error: 0.0381 - mean_absolute_percentage_error: 7957.3479\n",
      "Epoch 29/50\n",
      " - 10s - loss: 0.0034 - mean_absolute_error: 0.0377 - mean_absolute_percentage_error: 14814.3991\n",
      "Epoch 30/50\n",
      " - 10s - loss: 0.0034 - mean_absolute_error: 0.0377 - mean_absolute_percentage_error: 12215.7369\n",
      "Epoch 31/50\n",
      " - 11s - loss: 0.0035 - mean_absolute_error: 0.0379 - mean_absolute_percentage_error: 17049.1464\n",
      "Epoch 32/50\n",
      " - 10s - loss: 0.0034 - mean_absolute_error: 0.0375 - mean_absolute_percentage_error: 7353.6296\n",
      "Epoch 33/50\n",
      " - 12s - loss: 0.0034 - mean_absolute_error: 0.0380 - mean_absolute_percentage_error: 8895.4839\n",
      "Epoch 34/50\n",
      " - 12s - loss: 0.0034 - mean_absolute_error: 0.0383 - mean_absolute_percentage_error: 16268.8198\n",
      "Epoch 35/50\n",
      " - 12s - loss: 0.0034 - mean_absolute_error: 0.0378 - mean_absolute_percentage_error: 12173.7328\n",
      "Epoch 36/50\n",
      " - 10s - loss: 0.0034 - mean_absolute_error: 0.0378 - mean_absolute_percentage_error: 10751.7072\n",
      "Epoch 37/50\n",
      " - 11s - loss: 0.0034 - mean_absolute_error: 0.0383 - mean_absolute_percentage_error: 8523.3422\n",
      "Epoch 38/50\n",
      " - 11s - loss: 0.0034 - mean_absolute_error: 0.0378 - mean_absolute_percentage_error: 9378.2935\n",
      "Epoch 39/50\n",
      " - 10s - loss: 0.0034 - mean_absolute_error: 0.0382 - mean_absolute_percentage_error: 9822.0687\n",
      "Epoch 40/50\n",
      " - 11s - loss: 0.0034 - mean_absolute_error: 0.0384 - mean_absolute_percentage_error: 7377.6616\n",
      "Epoch 41/50\n",
      " - 11s - loss: 0.0034 - mean_absolute_error: 0.0380 - mean_absolute_percentage_error: 12148.9028\n",
      "Epoch 42/50\n",
      " - 11s - loss: 0.0035 - mean_absolute_error: 0.0382 - mean_absolute_percentage_error: 12239.9938\n",
      "Epoch 43/50\n",
      " - 11s - loss: 0.0034 - mean_absolute_error: 0.0377 - mean_absolute_percentage_error: 14612.1855\n",
      "Epoch 44/50\n",
      " - 11s - loss: 0.0034 - mean_absolute_error: 0.0381 - mean_absolute_percentage_error: 11940.8792\n",
      "Epoch 45/50\n",
      " - 10s - loss: 0.0034 - mean_absolute_error: 0.0375 - mean_absolute_percentage_error: 13908.1596\n",
      "Epoch 46/50\n",
      " - 11s - loss: 0.0034 - mean_absolute_error: 0.0379 - mean_absolute_percentage_error: 10049.8807\n",
      "Epoch 47/50\n",
      " - 11s - loss: 0.0035 - mean_absolute_error: 0.0381 - mean_absolute_percentage_error: 11323.3205\n",
      "Epoch 48/50\n",
      " - 10s - loss: 0.0034 - mean_absolute_error: 0.0380 - mean_absolute_percentage_error: 10504.7348\n",
      "Epoch 49/50\n",
      " - 11s - loss: 0.0034 - mean_absolute_error: 0.0381 - mean_absolute_percentage_error: 11594.6481\n",
      "Epoch 50/50\n",
      " - 11s - loss: 0.0034 - mean_absolute_error: 0.0382 - mean_absolute_percentage_error: 14293.9522\n"
     ]
    }
   ],
   "source": [
    "model.compile(loss='mean_squared_error', optimizer='Adam',metrics=['mae','mape'])\n",
    "history1 = model.fit(trainX, trainY, epochs=50, batch_size=1, verbose=2)"
   ]
  },
  {
   "cell_type": "code",
   "execution_count": 42,
   "metadata": {},
   "outputs": [
    {
     "data": {
      "image/png": "[encoded data removed]",
      "text/plain": [
       "<matplotlib.figure.Figure at 0x7f4bd6bfc320>"
      ]
     },
     "metadata": {},
     "output_type": "display_data"
    }
   ],
   "source": [
    "plt.plot(history1.history['mean_absolute_percentage_error'])\n",
    "##plt.plot(history.history['val_loss'])\n",
    "plt.title('Model error')\n",
    "plt.ylabel('MAPE')\n",
    "plt.xlabel('Epoch')\n",
    "plt.legend(['Train', 'Test'], loc='upper left')\n",
    "plt.show()"
   ]
  },
  {
   "cell_type": "code",
   "execution_count": 28,
   "metadata": {},
   "outputs": [
    {
     "data": {
      "image/png": "[encoded data removed]",
      "text/plain": [
       "<matplotlib.figure.Figure at 0x7f4bd7fdafd0>"
      ]
     },
     "metadata": {},
     "output_type": "display_data"
    }
   ],
   "source": [
    "plt.plot(history1.history['loss'])\n",
    "##plt.plot(history.history['val_loss'])\n",
    "plt.title('Model loss')\n",
    "plt.ylabel('loss')\n",
    "plt.xlabel('Epoch')\n",
    "plt.legend(['Train', 'Test'], loc='upper left')\n",
    "plt.show()"
   ]
  },
  {
   "cell_type": "code",
   "execution_count": 18,
   "metadata": {
    "collapsed": true
   },
   "outputs": [],
   "source": [
    "trainPredict = model.predict(trainX)"
   ]
  },
  {
   "cell_type": "code",
   "execution_count": 19,
   "metadata": {
    "collapsed": true
   },
   "outputs": [],
   "source": [
    "trainX = dataset[0:train_size,1:]"
   ]
  },
  {
   "cell_type": "code",
   "execution_count": 20,
   "metadata": {},
   "outputs": [
    {
     "data": {
      "text/plain": [
       "[<matplotlib.lines.Line2D at 0x7f89fd57a940>,\n",
       " <matplotlib.lines.Line2D at 0x7f89fd57aa90>,\n",
       " <matplotlib.lines.Line2D at 0x7f89fd57abe0>,\n",
       " <matplotlib.lines.Line2D at 0x7f89fd57ad30>,\n",
       " <matplotlib.lines.Line2D at 0x7f89fd57ae80>]"
      ]
     },
     "execution_count": 20,
     "metadata": {},
     "output_type": "execute_result"
    }
   ],
   "source": [
    "plt.plot(trainX,color='b')"
   ]
  },
  {
   "cell_type": "code",
   "execution_count": 21,
   "metadata": {},
   "outputs": [
    {
     "data": {
      "text/plain": [
       "[<matplotlib.lines.Line2D at 0x7f89fd56a0b8>]"
      ]
     },
     "execution_count": 21,
     "metadata": {},
     "output_type": "execute_result"
    }
   ],
   "source": [
    "plt.plot(trainPredict,color = 'r')"
   ]
  },
  {
   "cell_type": "code",
   "execution_count": 22,
   "metadata": {},
   "outputs": [
    {
     "data": {
      "image/png": "[encoded data removed]",
      "text/plain": [
       "<matplotlib.figure.Figure at 0x7f8a02915b38>"
      ]
     },
     "metadata": {},
     "output_type": "display_data"
    }
   ],
   "source": [
    "plt.show()"
   ]
  },
  {
   "cell_type": "code",
   "execution_count": 23,
   "metadata": {
    "collapsed": true
   },
   "outputs": [],
   "source": [
    "testPredict = model.predict(testX)"
   ]
  },
  {
   "cell_type": "code",
   "execution_count": 24,
   "metadata": {},
   "outputs": [
    {
     "data": {
      "text/plain": [
       "0.8413186487317342"
      ]
     },
     "execution_count": 24,
     "metadata": {},
     "output_type": "execute_result"
    }
   ],
   "source": [
    "r2_score(testPredict,testY)"
   ]
  },
  {
   "cell_type": "code",
   "execution_count": null,
   "metadata": {
    "collapsed": true
   },
   "outputs": [],
   "source": []
  },
  {
   "cell_type": "markdown",
   "metadata": {
    "collapsed": true
   },
   "source": [
    "# CYCLICAL MODEL"
   ]
  },
  {
   "cell_type": "code",
   "execution_count": null,
   "metadata": {
    "collapsed": true
   },
   "outputs": [],
   "source": []
  },
  {
   "cell_type": "code",
   "execution_count": 29,
   "metadata": {
    "collapsed": true
   },
   "outputs": [],
   "source": [
    "from lr_utils.keras_lr_finder import LRFinder\n",
    "from lr_utils.keras_SGDR import SGDRScheduler\n",
    "from lr_utils.keras_CLR import CyclicLR\n",
    "from keras.callbacks import EarlyStopping"
   ]
  },
  {
   "cell_type": "code",
   "execution_count": 30,
   "metadata": {},
   "outputs": [
    {
     "name": "stdout",
     "output_type": "stream",
     "text": [
      "Epoch 1/1\n",
      "7479/7479 [==============================] - 1s 137us/step - loss: 0.0075 - acc: 2.6742e-04 - mean_absolute_error: 0.0344 - mean_absolute_percentage_error: 13493.2624\n"
     ]
    },
    {
     "data": {
      "text/plain": [
       "<keras.callbacks.History at 0x7f4bec16fa20>"
      ]
     },
     "execution_count": 30,
     "metadata": {},
     "output_type": "execute_result"
    }
   ],
   "source": [
    "batch_size = 15\n",
    "model.compile(loss='mean_squared_error',optimizer='SGD',metrics=['accuracy','mae','mape'])\n",
    "lr_finder = LRFinder(min_lr=1e-5, max_lr=1e-2, steps_per_epoch=np.ceil(trainX.shape[0]/batch_size), epochs=1)\n",
    "model.fit(trainX, trainY, callbacks=[lr_finder] )"
   ]
  },
  {
   "cell_type": "code",
   "execution_count": 31,
   "metadata": {
    "collapsed": true
   },
   "outputs": [],
   "source": [
    "lr_finder.plot_loss()"
   ]
  },
  {
   "cell_type": "code",
   "execution_count": 32,
   "metadata": {},
   "outputs": [
    {
     "data": {
      "image/png": "[encoded data removed]",
      "text/plain": [
       "<matplotlib.figure.Figure at 0x7f4bec3267b8>"
      ]
     },
     "metadata": {},
     "output_type": "display_data"
    }
   ],
   "source": [
    "plt.show()"
   ]
  },
  {
   "cell_type": "code",
   "execution_count": 33,
   "metadata": {
    "collapsed": true
   },
   "outputs": [],
   "source": [
    "lr_finder.plot_avg_loss()"
   ]
  },
  {
   "cell_type": "code",
   "execution_count": 34,
   "metadata": {},
   "outputs": [
    {
     "data": {
      "image/png": "[encoded data removed]",
      "text/plain": [
       "<matplotlib.figure.Figure at 0x7f4be40930f0>"
      ]
     },
     "metadata": {},
     "output_type": "display_data"
    }
   ],
   "source": [
    "plt.show()"
   ]
  },
  {
   "cell_type": "code",
   "execution_count": 47,
   "metadata": {
    "collapsed": true
   },
   "outputs": [],
   "source": [
    "clr_triangular = CyclicLR(mode='triangular', step_size=np.ceil(trainX.shape[0]/batch_size))\n",
    "model.compile(optimizer='adam', loss='mean_squared_error', metrics=['accuracy','mae','mape'])"
   ]
  },
  {
   "cell_type": "code",
   "execution_count": 48,
   "metadata": {},
   "outputs": [
    {
     "name": "stdout",
     "output_type": "stream",
     "text": [
      "Train on 7479 samples, validate on 1870 samples\n",
      "Epoch 1/50\n",
      "7479/7479 [==============================] - 1s 112us/step - loss: 0.0052 - acc: 2.6742e-04 - mean_absolute_error: 0.0350 - mean_absolute_percentage_error: 13049.0150 - val_loss: 0.0047 - val_acc: 0.0000e+00 - val_mean_absolute_error: 0.0307 - val_mean_absolute_percentage_error: 7.6547\n",
      "Epoch 2/50\n",
      "7479/7479 [==============================] - 0s 20us/step - loss: 0.0052 - acc: 2.6742e-04 - mean_absolute_error: 0.0350 - mean_absolute_percentage_error: 15043.3421 - val_loss: 0.0047 - val_acc: 0.0000e+00 - val_mean_absolute_error: 0.0303 - val_mean_absolute_percentage_error: 7.4487\n",
      "Epoch 3/50\n",
      "7479/7479 [==============================] - 0s 20us/step - loss: 0.0053 - acc: 2.6742e-04 - mean_absolute_error: 0.0353 - mean_absolute_percentage_error: 13497.1164 - val_loss: 0.0053 - val_acc: 0.0000e+00 - val_mean_absolute_error: 0.0350 - val_mean_absolute_percentage_error: 7.9357\n",
      "Epoch 4/50\n",
      "7479/7479 [==============================] - 0s 21us/step - loss: 0.0057 - acc: 2.6742e-04 - mean_absolute_error: 0.0393 - mean_absolute_percentage_error: 12195.6079 - val_loss: 0.0055 - val_acc: 0.0000e+00 - val_mean_absolute_error: 0.0410 - val_mean_absolute_percentage_error: 10.0144\n",
      "Epoch 5/50\n",
      "7479/7479 [==============================] - 0s 21us/step - loss: 0.0053 - acc: 2.6742e-04 - mean_absolute_error: 0.0363 - mean_absolute_percentage_error: 16517.6003 - val_loss: 0.0048 - val_acc: 0.0000e+00 - val_mean_absolute_error: 0.0324 - val_mean_absolute_percentage_error: 7.9362\n",
      "Epoch 6/50\n",
      "7479/7479 [==============================] - 0s 20us/step - loss: 0.0053 - acc: 2.6742e-04 - mean_absolute_error: 0.0357 - mean_absolute_percentage_error: 16848.0062 - val_loss: 0.0049 - val_acc: 0.0000e+00 - val_mean_absolute_error: 0.0356 - val_mean_absolute_percentage_error: 9.1156\n",
      "Epoch 7/50\n",
      "7479/7479 [==============================] - 0s 21us/step - loss: 0.0054 - acc: 2.6742e-04 - mean_absolute_error: 0.0369 - mean_absolute_percentage_error: 14985.1109 - val_loss: 0.0048 - val_acc: 0.0000e+00 - val_mean_absolute_error: 0.0316 - val_mean_absolute_percentage_error: 7.3650\n",
      "Epoch 8/50\n",
      "7479/7479 [==============================] - 0s 23us/step - loss: 0.0056 - acc: 2.6742e-04 - mean_absolute_error: 0.0386 - mean_absolute_percentage_error: 15358.7268 - val_loss: 0.0048 - val_acc: 0.0000e+00 - val_mean_absolute_error: 0.0344 - val_mean_absolute_percentage_error: 8.7805\n",
      "Epoch 9/50\n",
      "7479/7479 [==============================] - 0s 24us/step - loss: 0.0054 - acc: 2.6742e-04 - mean_absolute_error: 0.0370 - mean_absolute_percentage_error: 13429.8470 - val_loss: 0.0055 - val_acc: 0.0000e+00 - val_mean_absolute_error: 0.0379 - val_mean_absolute_percentage_error: 8.2327\n",
      "Epoch 10/50\n",
      "7479/7479 [==============================] - 0s 22us/step - loss: 0.0053 - acc: 2.6742e-04 - mean_absolute_error: 0.0367 - mean_absolute_percentage_error: 15734.2288 - val_loss: 0.0052 - val_acc: 0.0000e+00 - val_mean_absolute_error: 0.0395 - val_mean_absolute_percentage_error: 9.9336\n",
      "Epoch 11/50\n",
      "7479/7479 [==============================] - 0s 21us/step - loss: 0.0053 - acc: 2.6742e-04 - mean_absolute_error: 0.0363 - mean_absolute_percentage_error: 16693.2574 - val_loss: 0.0047 - val_acc: 0.0000e+00 - val_mean_absolute_error: 0.0335 - val_mean_absolute_percentage_error: 8.6396\n",
      "Epoch 12/50\n",
      "7479/7479 [==============================] - 0s 21us/step - loss: 0.0052 - acc: 2.6742e-04 - mean_absolute_error: 0.0356 - mean_absolute_percentage_error: 12047.2634 - val_loss: 0.0047 - val_acc: 0.0000e+00 - val_mean_absolute_error: 0.0311 - val_mean_absolute_percentage_error: 7.5709\n",
      "Epoch 13/50\n",
      "7479/7479 [==============================] - 0s 22us/step - loss: 0.0051 - acc: 2.6742e-04 - mean_absolute_error: 0.0354 - mean_absolute_percentage_error: 14945.6354 - val_loss: 0.0045 - val_acc: 0.0000e+00 - val_mean_absolute_error: 0.0305 - val_mean_absolute_percentage_error: 7.4210\n",
      "Epoch 14/50\n",
      "7479/7479 [==============================] - 0s 23us/step - loss: 0.0051 - acc: 2.6742e-04 - mean_absolute_error: 0.0350 - mean_absolute_percentage_error: 12698.6400 - val_loss: 0.0045 - val_acc: 0.0000e+00 - val_mean_absolute_error: 0.0306 - val_mean_absolute_percentage_error: 7.4738\n",
      "Epoch 15/50\n",
      "7479/7479 [==============================] - 0s 29us/step - loss: 0.0050 - acc: 2.6742e-04 - mean_absolute_error: 0.0346 - mean_absolute_percentage_error: 13745.3007 - val_loss: 0.0045 - val_acc: 0.0000e+00 - val_mean_absolute_error: 0.0320 - val_mean_absolute_percentage_error: 8.1584\n",
      "Epoch 16/50\n",
      "7479/7479 [==============================] - 0s 21us/step - loss: 0.0050 - acc: 2.6742e-04 - mean_absolute_error: 0.0349 - mean_absolute_percentage_error: 14092.2772 - val_loss: 0.0045 - val_acc: 0.0000e+00 - val_mean_absolute_error: 0.0308 - val_mean_absolute_percentage_error: 7.6642\n",
      "Epoch 17/50\n",
      "7479/7479 [==============================] - 0s 22us/step - loss: 0.0050 - acc: 2.6742e-04 - mean_absolute_error: 0.0344 - mean_absolute_percentage_error: 13547.0902 - val_loss: 0.0045 - val_acc: 0.0000e+00 - val_mean_absolute_error: 0.0306 - val_mean_absolute_percentage_error: 7.6072\n",
      "Epoch 18/50\n",
      "7479/7479 [==============================] - 0s 21us/step - loss: 0.0050 - acc: 2.6742e-04 - mean_absolute_error: 0.0344 - mean_absolute_percentage_error: 13214.4119 - val_loss: 0.0045 - val_acc: 0.0000e+00 - val_mean_absolute_error: 0.0302 - val_mean_absolute_percentage_error: 7.3819\n",
      "Epoch 19/50\n",
      "7479/7479 [==============================] - 0s 22us/step - loss: 0.0050 - acc: 2.6742e-04 - mean_absolute_error: 0.0347 - mean_absolute_percentage_error: 11954.8124 - val_loss: 0.0045 - val_acc: 0.0000e+00 - val_mean_absolute_error: 0.0305 - val_mean_absolute_percentage_error: 7.5636\n",
      "Epoch 20/50\n",
      "7479/7479 [==============================] - 0s 21us/step - loss: 0.0050 - acc: 2.6742e-04 - mean_absolute_error: 0.0351 - mean_absolute_percentage_error: 11267.8142 - val_loss: 0.0045 - val_acc: 0.0000e+00 - val_mean_absolute_error: 0.0296 - val_mean_absolute_percentage_error: 6.9430\n",
      "Epoch 21/50\n",
      "7479/7479 [==============================] - 0s 23us/step - loss: 0.0051 - acc: 2.6742e-04 - mean_absolute_error: 0.0359 - mean_absolute_percentage_error: 12005.3565 - val_loss: 0.0046 - val_acc: 0.0000e+00 - val_mean_absolute_error: 0.0311 - val_mean_absolute_percentage_error: 7.3935\n",
      "Epoch 22/50\n",
      "7479/7479 [==============================] - 0s 22us/step - loss: 0.0052 - acc: 2.6742e-04 - mean_absolute_error: 0.0370 - mean_absolute_percentage_error: 14288.5221 - val_loss: 0.0045 - val_acc: 0.0000e+00 - val_mean_absolute_error: 0.0327 - val_mean_absolute_percentage_error: 8.2180\n",
      "Epoch 23/50\n",
      "7479/7479 [==============================] - 0s 22us/step - loss: 0.0053 - acc: 2.6742e-04 - mean_absolute_error: 0.0382 - mean_absolute_percentage_error: 15912.0452 - val_loss: 0.0050 - val_acc: 0.0000e+00 - val_mean_absolute_error: 0.0386 - val_mean_absolute_percentage_error: 9.6970\n",
      "Epoch 24/50\n",
      "7479/7479 [==============================] - 0s 21us/step - loss: 0.0054 - acc: 2.6742e-04 - mean_absolute_error: 0.0388 - mean_absolute_percentage_error: 13954.8346 - val_loss: 0.0067 - val_acc: 0.0000e+00 - val_mean_absolute_error: 0.0539 - val_mean_absolute_percentage_error: 12.8779\n",
      "Epoch 25/50\n",
      "7479/7479 [==============================] - 0s 25us/step - loss: 0.0053 - acc: 2.6742e-04 - mean_absolute_error: 0.0376 - mean_absolute_percentage_error: 14725.7578 - val_loss: 0.0045 - val_acc: 0.0000e+00 - val_mean_absolute_error: 0.0317 - val_mean_absolute_percentage_error: 8.0111\n",
      "Epoch 26/50\n",
      "7479/7479 [==============================] - 0s 21us/step - loss: 0.0054 - acc: 2.6742e-04 - mean_absolute_error: 0.0388 - mean_absolute_percentage_error: 15848.5647 - val_loss: 0.0044 - val_acc: 0.0000e+00 - val_mean_absolute_error: 0.0311 - val_mean_absolute_percentage_error: 7.8241\n",
      "Epoch 27/50\n",
      "7479/7479 [==============================] - 0s 25us/step - loss: 0.0050 - acc: 2.6742e-04 - mean_absolute_error: 0.0357 - mean_absolute_percentage_error: 14460.7434 - val_loss: 0.0045 - val_acc: 0.0000e+00 - val_mean_absolute_error: 0.0304 - val_mean_absolute_percentage_error: 7.2283\n",
      "Epoch 28/50\n"
     ]
    },
    {
     "name": "stdout",
     "output_type": "stream",
     "text": [
      "7479/7479 [==============================] - 0s 25us/step - loss: 0.0050 - acc: 2.6742e-04 - mean_absolute_error: 0.0354 - mean_absolute_percentage_error: 13174.8352 - val_loss: 0.0044 - val_acc: 0.0000e+00 - val_mean_absolute_error: 0.0299 - val_mean_absolute_percentage_error: 7.2522\n",
      "Epoch 29/50\n",
      "7479/7479 [==============================] - 0s 24us/step - loss: 0.0050 - acc: 2.6742e-04 - mean_absolute_error: 0.0353 - mean_absolute_percentage_error: 13117.3087 - val_loss: 0.0046 - val_acc: 0.0000e+00 - val_mean_absolute_error: 0.0324 - val_mean_absolute_percentage_error: 7.8793\n",
      "Epoch 30/50\n",
      "7479/7479 [==============================] - 0s 20us/step - loss: 0.0050 - acc: 2.6742e-04 - mean_absolute_error: 0.0363 - mean_absolute_percentage_error: 13982.1601 - val_loss: 0.0047 - val_acc: 0.0000e+00 - val_mean_absolute_error: 0.0324 - val_mean_absolute_percentage_error: 7.2806\n",
      "Epoch 31/50\n",
      "7479/7479 [==============================] - 0s 25us/step - loss: 0.0049 - acc: 2.6742e-04 - mean_absolute_error: 0.0350 - mean_absolute_percentage_error: 14266.4804 - val_loss: 0.0044 - val_acc: 0.0000e+00 - val_mean_absolute_error: 0.0316 - val_mean_absolute_percentage_error: 7.9793\n",
      "Epoch 32/50\n",
      "7479/7479 [==============================] - 0s 23us/step - loss: 0.0049 - acc: 2.6742e-04 - mean_absolute_error: 0.0347 - mean_absolute_percentage_error: 12053.7265 - val_loss: 0.0043 - val_acc: 0.0000e+00 - val_mean_absolute_error: 0.0301 - val_mean_absolute_percentage_error: 7.2962\n",
      "Epoch 33/50\n",
      "7479/7479 [==============================] - 0s 20us/step - loss: 0.0048 - acc: 2.6742e-04 - mean_absolute_error: 0.0347 - mean_absolute_percentage_error: 14008.9171 - val_loss: 0.0043 - val_acc: 0.0000e+00 - val_mean_absolute_error: 0.0298 - val_mean_absolute_percentage_error: 7.2087\n",
      "Epoch 34/50\n",
      "7479/7479 [==============================] - 0s 22us/step - loss: 0.0048 - acc: 2.6742e-04 - mean_absolute_error: 0.0340 - mean_absolute_percentage_error: 12640.5722 - val_loss: 0.0043 - val_acc: 0.0000e+00 - val_mean_absolute_error: 0.0303 - val_mean_absolute_percentage_error: 7.4324\n",
      "Epoch 35/50\n",
      "7479/7479 [==============================] - 0s 26us/step - loss: 0.0048 - acc: 2.6742e-04 - mean_absolute_error: 0.0342 - mean_absolute_percentage_error: 12459.6087 - val_loss: 0.0045 - val_acc: 0.0000e+00 - val_mean_absolute_error: 0.0337 - val_mean_absolute_percentage_error: 8.3950\n",
      "Epoch 36/50\n",
      "7479/7479 [==============================] - 0s 23us/step - loss: 0.0048 - acc: 2.6742e-04 - mean_absolute_error: 0.0345 - mean_absolute_percentage_error: 12289.3180 - val_loss: 0.0045 - val_acc: 0.0000e+00 - val_mean_absolute_error: 0.0314 - val_mean_absolute_percentage_error: 7.4802\n",
      "Epoch 37/50\n",
      "7479/7479 [==============================] - 0s 24us/step - loss: 0.0048 - acc: 2.6742e-04 - mean_absolute_error: 0.0348 - mean_absolute_percentage_error: 12778.6938 - val_loss: 0.0043 - val_acc: 0.0000e+00 - val_mean_absolute_error: 0.0295 - val_mean_absolute_percentage_error: 7.0724\n",
      "Epoch 38/50\n",
      "7479/7479 [==============================] - 0s 25us/step - loss: 0.0051 - acc: 2.6742e-04 - mean_absolute_error: 0.0368 - mean_absolute_percentage_error: 17279.1808 - val_loss: 0.0043 - val_acc: 0.0000e+00 - val_mean_absolute_error: 0.0299 - val_mean_absolute_percentage_error: 7.1574\n",
      "Epoch 39/50\n",
      "7479/7479 [==============================] - 0s 25us/step - loss: 0.0049 - acc: 2.6742e-04 - mean_absolute_error: 0.0355 - mean_absolute_percentage_error: 13660.3528 - val_loss: 0.0043 - val_acc: 0.0000e+00 - val_mean_absolute_error: 0.0310 - val_mean_absolute_percentage_error: 7.8848\n",
      "Epoch 40/50\n",
      "7479/7479 [==============================] - 0s 22us/step - loss: 0.0050 - acc: 2.6742e-04 - mean_absolute_error: 0.0366 - mean_absolute_percentage_error: 15014.6919 - val_loss: 0.0052 - val_acc: 0.0000e+00 - val_mean_absolute_error: 0.0423 - val_mean_absolute_percentage_error: 10.3493\n",
      "Epoch 41/50\n",
      "7479/7479 [==============================] - 0s 21us/step - loss: 0.0050 - acc: 2.6742e-04 - mean_absolute_error: 0.0369 - mean_absolute_percentage_error: 10300.5954 - val_loss: 0.0059 - val_acc: 0.0000e+00 - val_mean_absolute_error: 0.0486 - val_mean_absolute_percentage_error: 11.6613\n",
      "Epoch 42/50\n",
      "7479/7479 [==============================] - 0s 25us/step - loss: 0.0053 - acc: 2.6742e-04 - mean_absolute_error: 0.0395 - mean_absolute_percentage_error: 9029.6575 - val_loss: 0.0056 - val_acc: 0.0000e+00 - val_mean_absolute_error: 0.0456 - val_mean_absolute_percentage_error: 10.7399\n",
      "Epoch 43/50\n",
      "7479/7479 [==============================] - 0s 25us/step - loss: 0.0050 - acc: 2.6742e-04 - mean_absolute_error: 0.0368 - mean_absolute_percentage_error: 16107.7952 - val_loss: 0.0043 - val_acc: 0.0000e+00 - val_mean_absolute_error: 0.0299 - val_mean_absolute_percentage_error: 7.3057\n",
      "Epoch 44/50\n",
      "7479/7479 [==============================] - 0s 24us/step - loss: 0.0052 - acc: 2.6742e-04 - mean_absolute_error: 0.0381 - mean_absolute_percentage_error: 17937.5545 - val_loss: 0.0043 - val_acc: 0.0000e+00 - val_mean_absolute_error: 0.0306 - val_mean_absolute_percentage_error: 7.2470\n",
      "Epoch 45/50\n",
      "7479/7479 [==============================] - 0s 22us/step - loss: 0.0048 - acc: 2.6742e-04 - mean_absolute_error: 0.0353 - mean_absolute_percentage_error: 14611.8222 - val_loss: 0.0043 - val_acc: 0.0000e+00 - val_mean_absolute_error: 0.0315 - val_mean_absolute_percentage_error: 7.5991\n",
      "Epoch 46/50\n",
      "7479/7479 [==============================] - 0s 26us/step - loss: 0.0048 - acc: 2.6742e-04 - mean_absolute_error: 0.0348 - mean_absolute_percentage_error: 13015.7541 - val_loss: 0.0042 - val_acc: 0.0000e+00 - val_mean_absolute_error: 0.0304 - val_mean_absolute_percentage_error: 7.3305\n",
      "Epoch 47/50\n",
      "7479/7479 [==============================] - 0s 27us/step - loss: 0.0047 - acc: 2.6742e-04 - mean_absolute_error: 0.0342 - mean_absolute_percentage_error: 14960.4886 - val_loss: 0.0042 - val_acc: 0.0000e+00 - val_mean_absolute_error: 0.0312 - val_mean_absolute_percentage_error: 7.7701\n",
      "Epoch 48/50\n",
      "7479/7479 [==============================] - 0s 25us/step - loss: 0.0047 - acc: 2.6742e-04 - mean_absolute_error: 0.0341 - mean_absolute_percentage_error: 11916.0719 - val_loss: 0.0042 - val_acc: 0.0000e+00 - val_mean_absolute_error: 0.0303 - val_mean_absolute_percentage_error: 7.3300\n",
      "Epoch 49/50\n",
      "7479/7479 [==============================] - 0s 25us/step - loss: 0.0047 - acc: 2.6742e-04 - mean_absolute_error: 0.0343 - mean_absolute_percentage_error: 12536.3126 - val_loss: 0.0042 - val_acc: 0.0000e+00 - val_mean_absolute_error: 0.0299 - val_mean_absolute_percentage_error: 7.2740\n",
      "Epoch 50/50\n",
      "7479/7479 [==============================] - 0s 36us/step - loss: 0.0047 - acc: 2.6742e-04 - mean_absolute_error: 0.0343 - mean_absolute_percentage_error: 12441.2562 - val_loss: 0.0042 - val_acc: 0.0000e+00 - val_mean_absolute_error: 0.0300 - val_mean_absolute_percentage_error: 7.2668\n"
     ]
    }
   ],
   "source": [
    "historyf = model.fit(trainX, trainY, batch_size=128, epochs=50, validation_data=(testX, testY), callbacks=[clr_triangular])"
   ]
  },
  {
   "cell_type": "code",
   "execution_count": 49,
   "metadata": {},
   "outputs": [
    {
     "data": {
      "image/png": "[encoded data removed]",
      "text/plain": [
       "<matplotlib.figure.Figure at 0x7f4bd5c70438>"
      ]
     },
     "metadata": {},
     "output_type": "display_data"
    }
   ],
   "source": [
    "plt.plot(historyf.history['val_mean_absolute_percentage_error'])\n",
    "##plt.plot(history.history['val_loss'])\n",
    "plt.title('Model accuracy')\n",
    "plt.ylabel('MAPE')\n",
    "plt.xlabel('Epoch')\n",
    "plt.legend(['Train', 'Test'], loc='upper left')\n",
    "plt.show()"
   ]
  },
  {
   "cell_type": "code",
   "execution_count": 50,
   "metadata": {},
   "outputs": [
    {
     "data": {
      "text/plain": [
       "[<matplotlib.lines.Line2D at 0x7f4bd5c27a58>]"
      ]
     },
     "execution_count": 50,
     "metadata": {},
     "output_type": "execute_result"
    }
   ],
   "source": [
    "plt.xlabel('Training Iterations')\n",
    "plt.ylabel('Learning Rate')\n",
    "plt.title(\"CLR - 'triangular' Policy\")\n",
    "plt.plot(clr_triangular.history['iterations'], clr_triangular.history['lr'])"
   ]
  },
  {
   "cell_type": "code",
   "execution_count": null,
   "metadata": {
    "collapsed": true
   },
   "outputs": [],
   "source": []
  }
 ],
 "metadata": {
  "kernelspec": {
   "display_name": "Python 3",
   "language": "python",
   "name": "python3"
  },
  "language_info": {
   "codemirror_mode": {
    "name": "ipython",
    "version": 3
   },
   "file_extension": ".py",
   "mimetype": "text/x-python",
   "name": "python",
   "nbconvert_exporter": "python",
   "pygments_lexer": "ipython3",
   "version": "3.6.3"
  }
 },
 "nbformat": 4,
 "nbformat_minor": 2
}
